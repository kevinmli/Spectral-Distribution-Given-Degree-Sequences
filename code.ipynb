{
  "nbformat": 4,
  "nbformat_minor": 0,
  "metadata": {
    "colab": {
      "provenance": []
    },
    "kernelspec": {
      "name": "python3",
      "display_name": "Python 3"
    },
    "language_info": {
      "name": "python"
    }
  },
  "cells": [
    {
      "cell_type": "markdown",
      "source": [
        "# Setup"
      ],
      "metadata": {
        "id": "Sf09oH1k3wl7"
      }
    },
    {
      "cell_type": "code",
      "execution_count": 1,
      "metadata": {
        "id": "lnTB9BSS3JQA"
      },
      "outputs": [],
      "source": [
        "import numpy as np\n",
        "import scipy.linalg\n",
        "import matplotlib.pyplot as plt\n",
        "import seaborn as sns\n",
        "import random"
      ]
    },
    {
      "cell_type": "markdown",
      "source": [
        "# Matrix Initialization"
      ],
      "metadata": {
        "id": "ajaVsWVO39EW"
      }
    },
    {
      "cell_type": "code",
      "source": [
        "### Pairs up consecutive elements in a list\n",
        "def pair_consecutive_elements_in_list(lst):\n",
        "    result = [[lst[i], lst[i + 1]] for i in range(len(lst) - 1)]\n",
        "    del result[1::2]\n",
        "    return result"
      ],
      "metadata": {
        "id": "1RplxbNO4MWl"
      },
      "execution_count": 2,
      "outputs": []
    },
    {
      "cell_type": "code",
      "source": [
        "### Generates random pairing of half edges\n",
        "def gen_pairing_of_half_edges(open_half_edges):\n",
        "    np.random.shuffle(open_half_edges)\n",
        "    return pair_consecutive_elements_in_list(open_half_edges)"
      ],
      "metadata": {
        "id": "GNsQ9g8U4G8_"
      },
      "execution_count": 3,
      "outputs": []
    },
    {
      "cell_type": "code",
      "source": [
        "### Generates the random graph based on our configuration model\n",
        "def gen_random_graph_two_diff_weights(lo_deg, hi_deg, n, bins):\n",
        "    # Randomly fix each degree d_i as either the low degree or the high degree\n",
        "    d = np.zeros(n)\n",
        "    for i in range(n):\n",
        "        if random.randint(0, 1) == 0:\n",
        "            d[i] = lo_deg\n",
        "        else:\n",
        "            d[i] = hi_deg\n",
        "    \n",
        "    D = np.sum(d)\n",
        "\n",
        "    # Create d_i half-edges for vertex v_i\n",
        "    vertex_list = [i for i in range(n)]\n",
        "\n",
        "    open_half_edges = []\n",
        "    for vertex in vertex_list:\n",
        "        open_half_edges.extend([vertex] * int(d[vertex]))\n",
        "    open_half_edges = np.array(open_half_edges)\n",
        "    \n",
        "    # Randomly pair up half-edges\n",
        "    edges = gen_pairing_of_half_edges(open_half_edges)\n",
        "\n",
        "    # Determine adjacency matrix\n",
        "    A = np.zeros((n, n))\n",
        "\n",
        "    for edge in edges:\n",
        "        u = edge[0]\n",
        "        v = edge[1]\n",
        "        A[u, v] += 1\n",
        "        A[v, u] += 1\n",
        "    \n",
        "    # Determine normalized Laplacian\n",
        "    M = np.zeros((n, n))\n",
        "\n",
        "    w_n = D / n\n",
        "\n",
        "    for i in range(n):\n",
        "        for j in range(n):\n",
        "           M[i, j] = np.sqrt(w_n / (d[i] * d[j])) * (A[i, j] - ((d[i] * d[j]) / (D-1))) \n",
        "\n",
        "    # Compute eigenvalues of M\n",
        "    eigs = np.linalg.eigvalsh(M)\n",
        "    temp_eigs = np.copy(eigs)\n",
        "\n",
        "    print(\"Min eigenvalue: \", np.min(eigs))\n",
        "    print(\"Max eigenvalue: \", np.max(eigs))\n",
        "    \n",
        "    # Plot spectral distribution\n",
        "    sns.histplot(eigs, bins=bins, stat='probability')\n",
        "    plt.show()\n",
        "\n",
        "    return np.array(eigs), np.array(temp_eigs)"
      ],
      "metadata": {
        "id": "JgoBlYhA4Xv2"
      },
      "execution_count": 4,
      "outputs": []
    },
    {
      "cell_type": "markdown",
      "source": [
        "# Results"
      ],
      "metadata": {
        "id": "53pPd3Ah6EFS"
      }
    },
    {
      "cell_type": "markdown",
      "source": [
        "### Example (Computational Support for semicircle law in Theorem)\n",
        "Low degree: `100`\n",
        "\n",
        "High degree: `500`\n",
        "\n",
        "Number of vertices: `10,000`\n",
        "\n",
        "Note that $d_i\\geq 100\\gg\\sqrt{\\frac{D}{n}}\\approx\\sqrt{300}$."
      ],
      "metadata": {
        "id": "vVjpCs8M6J6S"
      }
    },
    {
      "cell_type": "code",
      "source": [
        "_ = gen_random_graph_two_diff_weights(lo_deg=100, hi_deg=500, n=10000, bins=100)"
      ],
      "metadata": {
        "colab": {
          "base_uri": "https://localhost:8080/",
          "height": 465
        },
        "id": "z88kmMf36F1I",
        "outputId": "59a1bcf5-f9bf-428e-95ad-3c604d0430be"
      },
      "execution_count": 8,
      "outputs": [
        {
          "output_type": "stream",
          "name": "stdout",
          "text": [
            "Min eigenvalue:  -2.0053899902269405\n",
            "Max eigenvalue:  1.9936282978855324\n"
          ]
        },
        {
          "output_type": "display_data",
          "data": {
            "text/plain": [
              "<Figure size 640x480 with 1 Axes>"
            ],
            "image/png": "[encoded data removed]"
          },
          "metadata": {}
        }
      ]
    },
    {
      "cell_type": "markdown",
      "source": [
        "### Non-Example (Computational support for assumptions made in Theorem)\n",
        "Low degree: `10`\n",
        "\n",
        "High degree: `200`\n",
        "\n",
        "Number of vertices: `10,000`\n",
        "\n",
        "Note that $d_i$ could be $10$ and $10 \\ngtr \\sqrt{\\frac{D}{n}}\\approx\\sqrt{105}\\approx 10.2$."
      ],
      "metadata": {
        "id": "M8gcIU-D6sdN"
      }
    },
    {
      "cell_type": "code",
      "source": [
        "_ = gen_random_graph_two_diff_weights(lo_deg=10, hi_deg=200, n=10000, bins=100)"
      ],
      "metadata": {
        "colab": {
          "base_uri": "https://localhost:8080/",
          "height": 465
        },
        "id": "TzEMfT7F7u_p",
        "outputId": "8f738cf5-9541-4059-f96a-b7eaebe7d9e8"
      },
      "execution_count": 9,
      "outputs": [
        {
          "output_type": "stream",
          "name": "stdout",
          "text": [
            "Min eigenvalue:  -2.4374186366381903\n",
            "Max eigenvalue:  2.433663777653284\n"
          ]
        },
        {
          "output_type": "display_data",
          "data": {
            "text/plain": [
              "<Figure size 640x480 with 1 Axes>"
            ],
            "image/png": "[encoded data removed]"
          },
          "metadata": {}
        }
      ]
    }
  ]
}